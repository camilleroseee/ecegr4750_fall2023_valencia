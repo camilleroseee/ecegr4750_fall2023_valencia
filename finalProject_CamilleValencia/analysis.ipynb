{
 "cells": [
  {
   "cell_type": "markdown",
   "id": "cc3a6b66-2ac5-48d3-9088-5e1859bb37c3",
   "metadata": {},
   "source": [
    "# Final Project: Analysis \n",
    "In this Jupyter notebook, I will be displaying each of my models and performing analysis on their corresponding hyperparameters. \n"
   ]
  },
  {
   "cell_type": "markdown",
   "id": "13d85cef-4005-4488-a56e-25fce5af3d81",
   "metadata": {},
   "source": [
    "### Model #1 Analysis "
   ]
  },
  {
   "cell_type": "code",
   "execution_count": 1,
   "id": "666037ec-607e-494f-9c5d-f8eaa1d32de8",
   "metadata": {},
   "outputs": [
    {
     "name": "stdout",
     "output_type": "stream",
     "text": [
      "['Unnamed: 0', 'filename', 'age', 'gender', 'race', 'age_range', 'num_haircuts_life', 'has_tiktok', 'remembers_disco', 'uses_skincare', 'max_annual_earnings']\n",
      "23708\n",
      "Mean Absolute Error: 6.336012581491348\n",
      "Mean Squared Error: 69.55880109162163\n",
      "R-squared: 0.8275318617215196\n"
     ]
    }
   ],
   "source": [
    "# necessary imports \n",
    "import numpy as np \n",
    "import pandas as pd \n",
    "from sklearn.model_selection import train_test_split\n",
    "import torch \n",
    "import torch.nn as nn \n",
    "import matplotlib.pyplot as plt\n",
    "import torch.optim as optim\n",
    "from sklearn.linear_model import LinearRegression\n",
    "from sklearn.metrics import mean_absolute_error, mean_squared_error, r2_score\n",
    "from utils import standardize_numeric\n",
    "\n",
    "# Model 1: Classic Model -- importing the UTKFaceAugmented.csv file and extracting features to predict age \n",
    "df = pd.read_csv('data/UTKFaceAugmented.csv')\n",
    "pd.set_option('display.max_columns', None)\n",
    "pd.set_option('display.max_rows', None) \n",
    "print(df.columns.tolist())\n",
    "print(len(df))\n",
    "df.head(5) # prints out the first five rows of data \n",
    "\n",
    "# listing the numerical vs categorical columns of data \n",
    "numeric_col = ['age', 'max_annual_earnings','num_haircuts_life']\n",
    "categorical_col = ['gender', 'filename', 'age_range', 'has_tiktok', 'remembers_disco', 'uses_skincare'] \n",
    "\n",
    "df['age_st'] = standardize_numeric(df['age'], False)\n",
    "df['max_annual_earnings_st'] = standardize_numeric(df['max_annual_earnings'], False)\n",
    "df['num_haircuts_life_st'] = standardize_numeric(df['num_haircuts_life'], False)\n",
    "X = df[['max_annual_earnings_st', 'num_haircuts_life_st']]\n",
    "y = df['age']\n",
    "X_train, X_test, y_train, y_test = train_test_split(X, y, test_size=0.2, random_state=42)\n",
    "model = LinearRegression()\n",
    "model.fit(X_train, y_train)\n",
    "\n",
    "y_pred = model.predict(X_test)\n",
    "\n",
    "# Evaluate the model\n",
    "mae = mean_absolute_error(y_test, y_pred)\n",
    "mse = mean_squared_error(y_test, y_pred)\n",
    "r2 = r2_score(y_test, y_pred)\n",
    "\n",
    "print(f'Mean Absolute Error: {mae}')\n",
    "print(f'Mean Squared Error: {mse}')\n",
    "print(f'R-squared: {r2}')"
   ]
  },
  {
   "cell_type": "markdown",
   "id": "7def5a97-dc17-4658-8c79-12c927b484cf",
   "metadata": {},
   "source": [
    "### Model #2 Analysis"
   ]
  },
  {
   "cell_type": "code",
   "execution_count": 1,
   "id": "004f6299-d7d1-48cc-abf4-0d8d4fed9cd6",
   "metadata": {},
   "outputs": [
    {
     "ename": "ModuleNotFoundError",
     "evalue": "No module named 'model_training'",
     "output_type": "error",
     "traceback": [
      "\u001b[0;31m---------------------------------------------------------------------------\u001b[0m",
      "\u001b[0;31mModuleNotFoundError\u001b[0m                       Traceback (most recent call last)",
      "Cell \u001b[0;32mIn[1], line 17\u001b[0m\n\u001b[1;32m     15\u001b[0m \u001b[38;5;28;01mfrom\u001b[39;00m \u001b[38;5;21;01mnetworks\u001b[39;00m \u001b[38;5;28;01mimport\u001b[39;00m CNNClassifier\n\u001b[1;32m     16\u001b[0m \u001b[38;5;28;01mfrom\u001b[39;00m \u001b[38;5;21;01mdataloader\u001b[39;00m \u001b[38;5;28;01mimport\u001b[39;00m ImageDataloader\n\u001b[0;32m---> 17\u001b[0m \u001b[38;5;28;01mfrom\u001b[39;00m \u001b[38;5;21;01mmodel_training\u001b[39;00m \u001b[38;5;28;01mimport\u001b[39;00m training_loss, epochs, model \n",
      "\u001b[0;31mModuleNotFoundError\u001b[0m: No module named 'model_training'"
     ]
    }
   ],
   "source": [
    "# necessary imports \n",
    "import numpy as np \n",
    "import pandas as pd \n",
    "from sklearn.model_selection import train_test_split\n",
    "import torch \n",
    "import torch.nn as nn \n",
    "import matplotlib.pyplot as plt\n",
    "import torch.optim as optim\n",
    "from sklearn.linear_model import LinearRegression\n",
    "from sklearn.metrics import mean_absolute_error, mean_squared_error, r2_score\n",
    "import cv2 \n",
    "import os\n",
    "import tqdm \n",
    "from networks import CNNClassifier\n",
    "from dataloader import ImageDataloader\n",
    "#%run model_training import training_loss, epochs, model \n",
    "\n",
    "# I tried importing my test data here, but had trouble doing so -- please refer to model_training for my analysis for model #2"
   ]
  }
 ],
 "metadata": {
  "kernelspec": {
   "display_name": "Python 3 (ipykernel)",
   "language": "python",
   "name": "python3"
  },
  "language_info": {
   "codemirror_mode": {
    "name": "ipython",
    "version": 3
   },
   "file_extension": ".py",
   "mimetype": "text/x-python",
   "name": "python",
   "nbconvert_exporter": "python",
   "pygments_lexer": "ipython3",
   "version": "3.9.6"
  }
 },
 "nbformat": 4,
 "nbformat_minor": 5
}
